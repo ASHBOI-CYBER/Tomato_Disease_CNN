{
 "cells": [
  {
   "cell_type": "code",
   "execution_count": null,
   "id": "f09fc253",
   "metadata": {},
   "outputs": [],
   "source": [
    "import os, re\n",
    "import numpy as np\n",
    "import torch\n",
    "import torch.nn as nn\n",
    "from PIL import Image\n",
    "from torch.utils.data import Dataset, DataLoader, Subset\n",
    "from torchvision import transforms, models\n",
    "from sklearn.metrics import accuracy_score, classification_report\n",
    "from tqdm import tqdm"
   ]
  },
  {
   "cell_type": "markdown",
   "id": "e105e121",
   "metadata": {},
   "source": [
    "# Configuration"
   ]
  },
  {
   "cell_type": "code",
   "execution_count": null,
   "id": "190d57d5",
   "metadata": {},
   "outputs": [],
   "source": [
    "checkpoint_dir = 'checkpoints'; os.makedirs(checkpoint_dir, exist_ok=True)\n",
    "data_root      = 'PlantVillage'\n",
    "tomato_classes = [\n",
    "    \"Tomato__Tomato_YellowLeaf__Curl_Virus\",\n",
    "    \"Tomato__Tomato_mosaic_virus\",\n",
    "    \"Tomato__Target_Spot\",\n",
    "    \"Tomato_Spider_mites_Two_spotted_spider_mite\",\n",
    "    \"Tomato_Septoria_leaf_spot\",\n",
    "    \"Tomato_Leaf_Mold\",\n",
    "    \"Tomato_Late_blight\",\n",
    "    \"Tomato_healthy\",\n",
    "    \"Tomato_Early_blight\",\n",
    "    \"Tomato_Bacterial_spot\"\n",
    "]\n",
    "BATCH   = 64\n",
    "EPOCHS  = 20\n",
    "LR      = 1e-3\n",
    "DEVICE  = torch.device('cuda' if torch.cuda.is_available() else 'cpu')\n",
    "torch.backends.cudnn.benchmark = True"
   ]
  },
  {
   "cell_type": "markdown",
   "id": "47c767ff",
   "metadata": {},
   "source": [
    "# Checkpoint"
   ]
  },
  {
   "cell_type": "code",
   "execution_count": null,
   "id": "8e5805d0",
   "metadata": {},
   "outputs": [],
   "source": [
    "def get_last_checkpoint(model_name):\n",
    "    pattern = re.compile(rf\"{model_name}_ep(\\d+)\\.pth\")\n",
    "    epochs_found = []\n",
    "    for fname in os.listdir(checkpoint_dir):\n",
    "        m = pattern.match(fname)\n",
    "        if m:\n",
    "            epochs_found.append(int(m.group(1)))\n",
    "    return max(epochs_found) if epochs_found else 0"
   ]
  },
  {
   "cell_type": "markdown",
   "id": "02cf0145",
   "metadata": {},
   "source": [
    "# Loading Dataset"
   ]
  },
  {
   "cell_type": "code",
   "execution_count": null,
   "id": "b6266b7c",
   "metadata": {},
   "outputs": [],
   "source": [
    "EXT = {\".jpg\",\".jpeg\",\".png\",\".bmp\",\".tif\",\".tiff\"}\n",
    "class TomatoDS(Dataset):\n",
    "    def __init__(self, root, classes, tf=None):\n",
    "        self.tf = tf\n",
    "        self.idx = {c:i for i,c in enumerate(classes)}\n",
    "        self.samples = []\n",
    "        for c in classes:\n",
    "            p = os.path.join(root,c)\n",
    "            for fn in os.listdir(p):\n",
    "                if os.path.splitext(fn)[1].lower() in EXT:\n",
    "                    self.samples.append((os.path.join(p,fn), self.idx[c]))\n",
    "    def __len__(self): return len(self.samples)\n",
    "    def __getitem__(self,i):\n",
    "        path,label = self.samples[i]\n",
    "        img = Image.open(path).convert(\"RGB\")\n",
    "        if self.tf: img = self.tf(img)\n",
    "        return img, label"
   ]
  },
  {
   "cell_type": "markdown",
   "id": "4edeca52",
   "metadata": {},
   "source": [
    "# Tranforms"
   ]
  },
  {
   "cell_type": "code",
   "execution_count": null,
   "id": "f3a4cd34",
   "metadata": {},
   "outputs": [],
   "source": [
    "train_tf = transforms.Compose([\n",
    "    transforms.RandomResizedCrop(224,scale=(0.8,1.0)),\n",
    "    transforms.RandomHorizontalFlip(),\n",
    "    transforms.ColorJitter(0.2,0.2,0.2,0.1),\n",
    "    transforms.ToTensor(),\n",
    "    transforms.Normalize([0.485,0.456,0.406],\n",
    "                         [0.229,0.224,0.225]),\n",
    "])\n",
    "val_tf = transforms.Compose([\n",
    "    transforms.Resize(256), transforms.CenterCrop(224),\n",
    "    transforms.ToTensor(),\n",
    "    transforms.Normalize([0.485,0.456,0.406],\n",
    "                         [0.229,0.224,0.225]),\n",
    "])\n",
    "\n",
    "full_ds = TomatoDS(data_root, tomato_classes, tf=None)\n",
    "n = len(full_ds)\n",
    "idx = np.random.RandomState(42).permutation(n)\n",
    "split = int(0.8*n)\n",
    "tr_idx, va_idx = idx[:split], idx[split:]\n",
    "\n",
    "train_ds = Subset(TomatoDS(data_root, tomato_classes, tf=train_tf), tr_idx)\n",
    "val_ds   = Subset(TomatoDS(data_root, tomato_classes, tf=val_tf),   va_idx)\n",
    "\n",
    "# **Set num_workers=0** to avoid multiprocessing pickling issues on Windows\n",
    "train_ld = DataLoader(train_ds, batch_size=BATCH, shuffle=True,\n",
    "                      num_workers=0, pin_memory=True)\n",
    "val_ld   = DataLoader(val_ds,   batch_size=BATCH, shuffle=False,\n",
    "                      num_workers=0, pin_memory=True)"
   ]
  },
  {
   "cell_type": "markdown",
   "id": "04662d2a",
   "metadata": {},
   "source": [
    "# Attention Block"
   ]
  },
  {
   "cell_type": "code",
   "execution_count": null,
   "id": "86edcacc",
   "metadata": {},
   "outputs": [],
   "source": [
    "class SEBlock(nn.Module):\n",
    "    def __init__(self, channels, r=16):\n",
    "        super().__init__()\n",
    "        self.pool = nn.AdaptiveAvgPool2d(1)\n",
    "        self.fc   = nn.Sequential(\n",
    "            nn.Linear(channels, channels//r, bias=False),\n",
    "            nn.ReLU(inplace=True),\n",
    "            nn.Linear(channels//r, channels,  bias=False),\n",
    "            nn.Sigmoid()\n",
    "        )\n",
    "    def forward(self, x):\n",
    "        b,c,_,_ = x.size()\n",
    "        y = self.pool(x).view(b,c)\n",
    "        y = self.fc(y).view(b,c,1,1)\n",
    "        return x * y"
   ]
  },
  {
   "cell_type": "markdown",
   "id": "89476be5",
   "metadata": {},
   "source": [
    "# Model"
   ]
  },
  {
   "cell_type": "code",
   "execution_count": null,
   "id": "0fae7fb1",
   "metadata": {},
   "outputs": [],
   "source": [
    "class TomatoNet(nn.Module):\n",
    "    def __init__(self, num_classes):\n",
    "        super().__init__()\n",
    "        backbone = models.efficientnet_b0(\n",
    "            weights=models.EfficientNet_B0_Weights.DEFAULT\n",
    "        )\n",
    "        self.features   = backbone.features\n",
    "        self.se         = SEBlock(channels=1280)\n",
    "        self.pool       = nn.AdaptiveAvgPool2d(1)\n",
    "        self.classifier = nn.Sequential(\n",
    "            nn.Dropout(0.3),\n",
    "            nn.Linear(1280, num_classes)\n",
    "        )\n",
    "    def forward(self, x):\n",
    "        x = self.features(x)\n",
    "        x = self.se(x)\n",
    "        x = self.pool(x).view(x.size(0), -1)\n",
    "        return self.classifier(x)\n",
    "\n",
    "model = TomatoNet(len(tomato_classes)).to(DEVICE)"
   ]
  },
  {
   "cell_type": "markdown",
   "id": "ba34cd45",
   "metadata": {},
   "source": [
    "# Training Loop"
   ]
  },
  {
   "cell_type": "code",
   "execution_count": null,
   "id": "c3bfaea9",
   "metadata": {},
   "outputs": [],
   "source": [
    "criterion = nn.CrossEntropyLoss()\n",
    "optimizer = torch.optim.Adam(model.parameters(), lr=LR)\n",
    "scheduler = torch.optim.lr_scheduler.CosineAnnealingLR(optimizer, T_max=EPOCHS)\n",
    "\n",
    "for ep in range(EPOCHS):\n",
    "    model.train()\n",
    "    bar = tqdm(train_ld, desc=f\"Epoch {ep+1}/{EPOCHS}\", leave=False)\n",
    "    tl, tc = 0.0, 0\n",
    "    for imgs, labels in bar:\n",
    "        imgs, labels = imgs.to(DEVICE), labels.to(DEVICE)\n",
    "        optimizer.zero_grad()\n",
    "        out = model(imgs)\n",
    "        loss = criterion(out, labels)\n",
    "        loss.backward()\n",
    "        optimizer.step()\n",
    "        tl += loss.item()*imgs.size(0)\n",
    "        tc += (out.argmax(1)==labels).sum().item()\n",
    "        bar.set_postfix(loss=tl/((bar.n+1)*BATCH), acc=tc/((bar.n+1)*BATCH))\n",
    "    scheduler.step()\n",
    "    torch.save(model.state_dict(),\n",
    "               os.path.join(checkpoint_dir, f\"tomatonet_ep{ep+1}.pth\"))"
   ]
  },
  {
   "cell_type": "markdown",
   "id": "11d7714e",
   "metadata": {},
   "source": [
    "# Final Eval\n"
   ]
  },
  {
   "cell_type": "code",
   "execution_count": null,
   "id": "1526706e-b070-438b-b0ac-ab09ae146253",
   "metadata": {},
   "outputs": [
    {
     "name": "stderr",
     "output_type": "stream",
     "text": [
      "Val: 100%|█████████████████████████████████████████████████████████████████████████████| 51/51 [00:10<00:00,  4.85it/s]"
     ]
    },
    {
     "name": "stdout",
     "output_type": "stream",
     "text": [
      "Validation Accuracy: 0.9962535123321886\n",
      "\n",
      "Classification Report:\n",
      "                                              precision    recall  f1-score   support\n",
      "\n",
      "      Tomato__Tomato_YellowLeaf__Curl_Virus       1.00      1.00      1.00       622\n",
      "                Tomato__Tomato_mosaic_virus       1.00      1.00      1.00        76\n",
      "                        Tomato__Target_Spot       0.99      1.00      0.99       273\n",
      "Tomato_Spider_mites_Two_spotted_spider_mite       1.00      0.99      0.99       332\n",
      "                  Tomato_Septoria_leaf_spot       1.00      1.00      1.00       368\n",
      "                           Tomato_Leaf_Mold       1.00      1.00      1.00       186\n",
      "                         Tomato_Late_blight       1.00      0.99      0.99       388\n",
      "                             Tomato_healthy       1.00      1.00      1.00       337\n",
      "                        Tomato_Early_blight       0.98      1.00      0.99       210\n",
      "                      Tomato_Bacterial_spot       1.00      1.00      1.00       411\n",
      "\n",
      "                                   accuracy                           1.00      3203\n",
      "                                  macro avg       1.00      1.00      1.00      3203\n",
      "                               weighted avg       1.00      1.00      1.00      3203\n",
      "\n"
     ]
    },
    {
     "name": "stderr",
     "output_type": "stream",
     "text": [
      "\n"
     ]
    }
   ],
   "source": [
    "model.eval()\n",
    "all_preds, all_labels = [], []\n",
    "with torch.no_grad():\n",
    "    for imgs, labels in tqdm(val_ld, desc=\"Val\"):\n",
    "        imgs = imgs.to(DEVICE)\n",
    "        logits = model(imgs)\n",
    "        preds  = logits.argmax(1).cpu()\n",
    "        all_preds .append(preds)\n",
    "        all_labels.append(labels)\n",
    "all_preds  = torch.cat(all_preds).numpy()\n",
    "all_labels = torch.cat(all_labels).numpy()\n",
    "\n",
    "print(\"Validation Accuracy:\", accuracy_score(all_labels, all_preds))\n",
    "print(\"\\nClassification Report:\\n\",\n",
    "      classification_report(all_labels, all_preds,\n",
    "                            target_names=tomato_classes))"
   ]
  }
 ],
 "metadata": {
  "kernelspec": {
   "display_name": "Python [conda env:base] *",
   "language": "python",
   "name": "conda-base-py"
  },
  "language_info": {
   "codemirror_mode": {
    "name": "ipython",
    "version": 3
   },
   "file_extension": ".py",
   "mimetype": "text/x-python",
   "name": "python",
   "nbconvert_exporter": "python",
   "pygments_lexer": "ipython3",
   "version": "3.12.7"
  }
 },
 "nbformat": 4,
 "nbformat_minor": 5
}
